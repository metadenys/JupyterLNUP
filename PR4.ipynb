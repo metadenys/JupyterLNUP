{
 "cells": [
  {
   "cell_type": "markdown",
   "id": "13deb11b",
   "metadata": {},
   "source": [
    "# [**Гана**](https://uk.wikipedia.org/wiki/%D0%93%D0%B0%D0%BD%D0%B0)\n",
    "## *Республіка Гана*\n",
    "\n",
    "<div style=\"color:red\">Republic of Ghana</div>\n",
    "<div style=\"color:yellow\">Republic of Ghana</div>\n",
    "<div style=\"color:green\">Republic of Ghana</div>\n",
    "\n",
    "<img src=\"https://www.orangesmile.com/common/img_cities_original/kumasi--2075172-6.jpg\" alt=\"\" width=\"600px\" height=\"400px\"/>\n",
    "\n",
    "|Столиця|Мова|Площа|Населення|ВВП|Валюта|\n",
    "|:-|:-|:-|:-|:-|:-|\n",
    "|Аккра|англійська|238 537 км²|25 199 609|$121 млрд|Cеді|\n",
    "\n",
    "Найбільші міста:\n",
    "<ol>\n",
    "  <li>Аккра</li>\n",
    "  <li>Тамале</li>\n",
    "  <li>Кумасі</li>\n",
    "  <li>Болгатанга</li>\n",
    "</ol>"
   ]
  },
  {
   "cell_type": "code",
   "execution_count": 1,
   "id": "39850b21",
   "metadata": {},
   "outputs": [
    {
     "data": {
      "text/html": [
       "<svg xmlns=\"http://www.w3.org/2000/svg\" width=\"900\" height=\"600\">\n",
       "  <path fill=\"#006b3f\" d=\"m0 0h900v600H0z\"/>\n",
       "  <path fill=\"#fcd116\" d=\"m0 0h900v400H00z\"/>\n",
       "  <path fill=\"#ce1126\" d=\"m0 0h900v200H0z\"/>\n",
       "  <path d=\"m450 200 64.98 200-170.13-123.61h210.3L385.02 400z\"/>\n",
       "</svg>\n"
      ],
      "text/plain": [
       "<IPython.core.display.HTML object>"
      ]
     },
     "metadata": {},
     "output_type": "display_data"
    }
   ],
   "source": [
    "%%HTML\n",
    "<svg xmlns=\"http://www.w3.org/2000/svg\" width=\"900\" height=\"600\">\n",
    "  <path fill=\"#006b3f\" d=\"m0 0h900v600H0z\"/>\n",
    "  <path fill=\"#fcd116\" d=\"m0 0h900v400H00z\"/>\n",
    "  <path fill=\"#ce1126\" d=\"m0 0h900v200H0z\"/>\n",
    "  <path d=\"m450 200 64.98 200-170.13-123.61h210.3L385.02 400z\"/>\n",
    "</svg>"
   ]
  },
  {
   "cell_type": "markdown",
   "id": "03f6a468",
   "metadata": {},
   "source": [
    "<b>Варіант 5. Вивести k-те за порядком просте число. Число kвводиться під час виконання скрипта.</b>"
   ]
  },
  {
   "cell_type": "code",
   "execution_count": 2,
   "id": "0022ea8a",
   "metadata": {},
   "outputs": [
    {
     "name": "stdout",
     "output_type": "stream",
     "text": [
      "Введіть номер k-го простого числа: 5\n",
      "5-е за порядком просте число: 11\n"
     ]
    }
   ],
   "source": [
    "def is_prime(n):\n",
    "    if n <= 1:\n",
    "        return False\n",
    "    if n <= 3:\n",
    "        return True\n",
    "    if n % 2 == 0 or n % 3 == 0:\n",
    "        return False\n",
    "    i = 5\n",
    "    while i * i <= n:\n",
    "        if n % i == 0 or n % (i + 2) == 0:\n",
    "            return False\n",
    "        i += 6\n",
    "    return True\n",
    "\n",
    "def kth_prime(k):\n",
    "    if k <= 0:\n",
    "        return None\n",
    "    count = 0\n",
    "    num = 2\n",
    "    while True:\n",
    "        if is_prime(num):\n",
    "            count += 1\n",
    "            if count == k:\n",
    "                return num\n",
    "        num += 1\n",
    "\n",
    "try:\n",
    "    k = int(input(\"Введіть номер k-го простого числа: \"))\n",
    "    if k <= 0:\n",
    "        print(\"Номер повинен бути більше 0.\")\n",
    "    else:\n",
    "        result = kth_prime(k)\n",
    "        print(f\"{k}-е за порядком просте число: {result}\")\n",
    "except ValueError:\n",
    "    print(\"Некоректний ввід. Будь ласка, введіть ціле число для k.\")\n"
   ]
  }
 ],
 "metadata": {
  "kernelspec": {
   "display_name": "Python 3 (ipykernel)",
   "language": "python",
   "name": "python3"
  },
  "language_info": {
   "codemirror_mode": {
    "name": "ipython",
    "version": 3
   },
   "file_extension": ".py",
   "mimetype": "text/x-python",
   "name": "python",
   "nbconvert_exporter": "python",
   "pygments_lexer": "ipython3",
   "version": "3.7.16"
  }
 },
 "nbformat": 4,
 "nbformat_minor": 5
}
